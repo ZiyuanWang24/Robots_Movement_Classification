{
 "cells": [
  {
   "cell_type": "code",
   "execution_count": null,
   "metadata": {},
   "outputs": [],
   "source": []
  }
 ],
 "metadata": {
  "kernelspec": {
   "display_name": "robotNAVI",
   "language": "python",
   "name": "python3"
  },
  "language_info": {
   "name": "python",
   "version": "3.9.15 (main, Nov 24 2022, 08:29:02) \n[Clang 14.0.6 ]"
  },
  "orig_nbformat": 4,
  "vscode": {
   "interpreter": {
    "hash": "826dfbfae553c69df2f435cf36926c5078a9f6bf245fb967a7e904c871744f8a"
   }
  }
 },
 "nbformat": 4,
 "nbformat_minor": 2
}
