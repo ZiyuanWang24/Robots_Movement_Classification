{
 "cells": [
  {
   "cell_type": "code",
   "execution_count": 18,
   "id": "ccfaa48a",
   "metadata": {},
   "outputs": [],
   "source": [
    "import numpy as np\n",
    "import matplotlib.pyplot as plt\n",
    "import pandas as pd\n",
    "import sklearn"
   ]
  },
  {
   "cell_type": "code",
   "execution_count": 19,
   "id": "b7685521",
   "metadata": {},
   "outputs": [],
   "source": [
    "datasets = pd.read_csv('/Users/tianyue/CSE583/Project/archive/sensor_readings_24.csv')"
   ]
  },
  {
   "cell_type": "code",
   "execution_count": 20,
   "id": "b9ed1d6a",
   "metadata": {},
   "outputs": [
    {
     "data": {
      "text/html": [
       "<div>\n",
       "<style scoped>\n",
       "    .dataframe tbody tr th:only-of-type {\n",
       "        vertical-align: middle;\n",
       "    }\n",
       "\n",
       "    .dataframe tbody tr th {\n",
       "        vertical-align: top;\n",
       "    }\n",
       "\n",
       "    .dataframe thead th {\n",
       "        text-align: right;\n",
       "    }\n",
       "</style>\n",
       "<table border=\"1\" class=\"dataframe\">\n",
       "  <thead>\n",
       "    <tr style=\"text-align: right;\">\n",
       "      <th></th>\n",
       "      <th>0.438</th>\n",
       "      <th>0.498</th>\n",
       "      <th>3.625</th>\n",
       "      <th>3.645</th>\n",
       "      <th>5.000</th>\n",
       "      <th>2.918</th>\n",
       "      <th>5.000.1</th>\n",
       "      <th>2.351</th>\n",
       "      <th>2.332</th>\n",
       "      <th>2.643</th>\n",
       "      <th>...</th>\n",
       "      <th>0.593</th>\n",
       "      <th>0.502</th>\n",
       "      <th>0.493</th>\n",
       "      <th>0.504</th>\n",
       "      <th>0.445</th>\n",
       "      <th>0.431</th>\n",
       "      <th>0.444</th>\n",
       "      <th>0.440</th>\n",
       "      <th>0.429</th>\n",
       "      <th>Slight-Right-Turn</th>\n",
       "    </tr>\n",
       "  </thead>\n",
       "  <tbody>\n",
       "    <tr>\n",
       "      <th>0</th>\n",
       "      <td>0.438</td>\n",
       "      <td>0.498</td>\n",
       "      <td>3.625</td>\n",
       "      <td>3.648</td>\n",
       "      <td>5.0</td>\n",
       "      <td>2.918</td>\n",
       "      <td>5.0</td>\n",
       "      <td>2.637</td>\n",
       "      <td>2.332</td>\n",
       "      <td>2.649</td>\n",
       "      <td>...</td>\n",
       "      <td>0.592</td>\n",
       "      <td>0.502</td>\n",
       "      <td>0.493</td>\n",
       "      <td>0.504</td>\n",
       "      <td>0.449</td>\n",
       "      <td>0.431</td>\n",
       "      <td>0.444</td>\n",
       "      <td>0.443</td>\n",
       "      <td>0.429</td>\n",
       "      <td>Slight-Right-Turn</td>\n",
       "    </tr>\n",
       "    <tr>\n",
       "      <th>1</th>\n",
       "      <td>0.438</td>\n",
       "      <td>0.498</td>\n",
       "      <td>3.625</td>\n",
       "      <td>3.629</td>\n",
       "      <td>5.0</td>\n",
       "      <td>2.918</td>\n",
       "      <td>5.0</td>\n",
       "      <td>2.637</td>\n",
       "      <td>2.334</td>\n",
       "      <td>2.643</td>\n",
       "      <td>...</td>\n",
       "      <td>0.593</td>\n",
       "      <td>0.502</td>\n",
       "      <td>0.493</td>\n",
       "      <td>0.504</td>\n",
       "      <td>0.449</td>\n",
       "      <td>0.431</td>\n",
       "      <td>0.444</td>\n",
       "      <td>0.446</td>\n",
       "      <td>0.429</td>\n",
       "      <td>Slight-Right-Turn</td>\n",
       "    </tr>\n",
       "    <tr>\n",
       "      <th>2</th>\n",
       "      <td>0.437</td>\n",
       "      <td>0.501</td>\n",
       "      <td>3.625</td>\n",
       "      <td>3.626</td>\n",
       "      <td>5.0</td>\n",
       "      <td>2.918</td>\n",
       "      <td>5.0</td>\n",
       "      <td>2.353</td>\n",
       "      <td>2.334</td>\n",
       "      <td>2.642</td>\n",
       "      <td>...</td>\n",
       "      <td>0.593</td>\n",
       "      <td>0.502</td>\n",
       "      <td>0.493</td>\n",
       "      <td>0.504</td>\n",
       "      <td>0.449</td>\n",
       "      <td>0.431</td>\n",
       "      <td>0.444</td>\n",
       "      <td>0.444</td>\n",
       "      <td>0.429</td>\n",
       "      <td>Slight-Right-Turn</td>\n",
       "    </tr>\n",
       "    <tr>\n",
       "      <th>3</th>\n",
       "      <td>0.438</td>\n",
       "      <td>0.498</td>\n",
       "      <td>3.626</td>\n",
       "      <td>3.629</td>\n",
       "      <td>5.0</td>\n",
       "      <td>2.918</td>\n",
       "      <td>5.0</td>\n",
       "      <td>2.640</td>\n",
       "      <td>2.334</td>\n",
       "      <td>2.639</td>\n",
       "      <td>...</td>\n",
       "      <td>0.592</td>\n",
       "      <td>0.502</td>\n",
       "      <td>0.493</td>\n",
       "      <td>0.504</td>\n",
       "      <td>0.449</td>\n",
       "      <td>0.431</td>\n",
       "      <td>0.444</td>\n",
       "      <td>0.441</td>\n",
       "      <td>0.429</td>\n",
       "      <td>Slight-Right-Turn</td>\n",
       "    </tr>\n",
       "    <tr>\n",
       "      <th>4</th>\n",
       "      <td>0.439</td>\n",
       "      <td>0.498</td>\n",
       "      <td>3.626</td>\n",
       "      <td>3.629</td>\n",
       "      <td>5.0</td>\n",
       "      <td>2.918</td>\n",
       "      <td>5.0</td>\n",
       "      <td>2.633</td>\n",
       "      <td>2.334</td>\n",
       "      <td>2.645</td>\n",
       "      <td>...</td>\n",
       "      <td>0.589</td>\n",
       "      <td>0.502</td>\n",
       "      <td>0.493</td>\n",
       "      <td>0.504</td>\n",
       "      <td>0.446</td>\n",
       "      <td>0.431</td>\n",
       "      <td>0.444</td>\n",
       "      <td>0.444</td>\n",
       "      <td>0.430</td>\n",
       "      <td>Slight-Right-Turn</td>\n",
       "    </tr>\n",
       "  </tbody>\n",
       "</table>\n",
       "<p>5 rows × 25 columns</p>\n",
       "</div>"
      ],
      "text/plain": [
       "   0.438  0.498  3.625  3.645  5.000  2.918  5.000.1  2.351  2.332  2.643  \\\n",
       "0  0.438  0.498  3.625  3.648    5.0  2.918      5.0  2.637  2.332  2.649   \n",
       "1  0.438  0.498  3.625  3.629    5.0  2.918      5.0  2.637  2.334  2.643   \n",
       "2  0.437  0.501  3.625  3.626    5.0  2.918      5.0  2.353  2.334  2.642   \n",
       "3  0.438  0.498  3.626  3.629    5.0  2.918      5.0  2.640  2.334  2.639   \n",
       "4  0.439  0.498  3.626  3.629    5.0  2.918      5.0  2.633  2.334  2.645   \n",
       "\n",
       "   ...  0.593  0.502  0.493  0.504  0.445  0.431  0.444  0.440  0.429  \\\n",
       "0  ...  0.592  0.502  0.493  0.504  0.449  0.431  0.444  0.443  0.429   \n",
       "1  ...  0.593  0.502  0.493  0.504  0.449  0.431  0.444  0.446  0.429   \n",
       "2  ...  0.593  0.502  0.493  0.504  0.449  0.431  0.444  0.444  0.429   \n",
       "3  ...  0.592  0.502  0.493  0.504  0.449  0.431  0.444  0.441  0.429   \n",
       "4  ...  0.589  0.502  0.493  0.504  0.446  0.431  0.444  0.444  0.430   \n",
       "\n",
       "   Slight-Right-Turn  \n",
       "0  Slight-Right-Turn  \n",
       "1  Slight-Right-Turn  \n",
       "2  Slight-Right-Turn  \n",
       "3  Slight-Right-Turn  \n",
       "4  Slight-Right-Turn  \n",
       "\n",
       "[5 rows x 25 columns]"
      ]
     },
     "execution_count": 20,
     "metadata": {},
     "output_type": "execute_result"
    }
   ],
   "source": [
    "datasets.head()"
   ]
  },
  {
   "cell_type": "code",
   "execution_count": 50,
   "id": "438a03d1",
   "metadata": {},
   "outputs": [],
   "source": [
    "X = datasets.iloc[:, [0,1,2,3,4,5,6,7,8,9,10,11,12,13,14,15,16,17,18,19,20,21,22,23]].values\n",
    "y = datasets.iloc[:, -1].values"
   ]
  },
  {
   "cell_type": "code",
   "execution_count": 51,
   "id": "78459463",
   "metadata": {},
   "outputs": [],
   "source": [
    "from sklearn.preprocessing import LabelEncoder\n",
    "le = LabelEncoder()\n",
    "X[:,0] = le.fit_transform(X[:,0])"
   ]
  },
  {
   "cell_type": "code",
   "execution_count": 52,
   "id": "bb2a3728",
   "metadata": {},
   "outputs": [],
   "source": [
    "from sklearn.model_selection import train_test_split\n",
    "X_train, X_test, y_train, y_test = train_test_split(X, y, test_size = 0.20, random_state = 0)"
   ]
  },
  {
   "cell_type": "code",
   "execution_count": 53,
   "id": "f293bad9",
   "metadata": {},
   "outputs": [],
   "source": [
    "from sklearn.preprocessing import StandardScaler\n",
    "sc = StandardScaler()\n",
    "X_train = sc.fit_transform(X_train)\n",
    "X_test = sc.transform(X_test)"
   ]
  },
  {
   "cell_type": "code",
   "execution_count": 54,
   "id": "043aa1a4",
   "metadata": {},
   "outputs": [
    {
     "data": {
      "text/plain": [
       "KNeighborsClassifier(n_neighbors=8)"
      ]
     },
     "execution_count": 54,
     "metadata": {},
     "output_type": "execute_result"
    }
   ],
   "source": [
    "from sklearn.neighbors import KNeighborsClassifier\n",
    "classifier = KNeighborsClassifier(n_neighbors = 8, p = 2)\n",
    "classifier.fit(X_train, y_train)"
   ]
  },
  {
   "cell_type": "code",
   "execution_count": 55,
   "id": "8231f91d",
   "metadata": {},
   "outputs": [
    {
     "name": "stdout",
     "output_type": "stream",
     "text": [
      "['Move-Forward' 'Move-Forward' 'Sharp-Right-Turn' ... 'Sharp-Right-Turn'\n",
      " 'Move-Forward' 'Move-Forward']\n"
     ]
    }
   ],
   "source": [
    "y_pred = classifier.predict(X_test)\n",
    "print(y_pred)"
   ]
  },
  {
   "cell_type": "code",
   "execution_count": 44,
   "id": "ba6dfd93",
   "metadata": {},
   "outputs": [
    {
     "name": "stdout",
     "output_type": "stream",
     "text": [
      "knn accuracy =  0.8331805682859762\n"
     ]
    }
   ],
   "source": [
    "from sklearn.metrics import confusion_matrix,accuracy_score\n",
    "cm = confusion_matrix(y_test, y_pred)\n",
    "ac = accuracy_score(y_test,y_pred)\n",
    "print(\"knn accuracy = \", ac)"
   ]
  },
  {
   "cell_type": "code",
   "execution_count": null,
   "id": "eaa322fd",
   "metadata": {},
   "outputs": [],
   "source": []
  },
  {
   "cell_type": "code",
   "execution_count": 13,
   "id": "8540d564",
   "metadata": {},
   "outputs": [],
   "source": []
  },
  {
   "cell_type": "code",
   "execution_count": null,
   "id": "9740a19e",
   "metadata": {},
   "outputs": [],
   "source": []
  }
 ],
 "metadata": {
  "kernelspec": {
   "display_name": "Python 3 (ipykernel)",
   "language": "python",
   "name": "python3"
  },
  "language_info": {
   "codemirror_mode": {
    "name": "ipython",
    "version": 3
   },
   "file_extension": ".py",
   "mimetype": "text/x-python",
   "name": "python",
   "nbconvert_exporter": "python",
   "pygments_lexer": "ipython3",
   "version": "3.9.12"
  }
 },
 "nbformat": 4,
 "nbformat_minor": 5
}
